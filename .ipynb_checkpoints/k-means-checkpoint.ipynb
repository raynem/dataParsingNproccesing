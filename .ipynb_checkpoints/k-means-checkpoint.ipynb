{
 "cells": [
  {
   "cell_type": "code",
   "execution_count": 1,
   "metadata": {},
   "outputs": [],
   "source": [
    "from nltk.stem.porter import PorterStemmer\n",
    "from nltk.tokenize import sent_tokenize, word_tokenize\n",
    "from nltk.corpus import stopwords\n",
    "import re\n",
    "from sklearn.feature_extraction.text import TfidfVectorizer\n",
    "from sklearn.cluster import KMeans\n",
    "import pandas as pd\n",
    "from pymongo import MongoClient"
   ]
  },
  {
   "cell_type": "code",
   "execution_count": 2,
   "metadata": {},
   "outputs": [],
   "source": [
    "def _connect_mongo(host, port, username, password, db):\n",
    "    if username and password:\n",
    "        mongo_uri = 'mongodb://%s:%s@%s:%s/%s' % (username, password, host, port, db)\n",
    "        conn = MongoClient(mongo_uri)\n",
    "    else:\n",
    "        conn = MongoClient(host, port)\n",
    "    return conn[db]\n",
    "\n",
    "def read_mongo(db, collection, query={}, host='localhost', port=27017, username=None, password=None, no_id=True):\n",
    "    \n",
    "    db = _connect_mongo(host=host, port=port, username=username, password=password, db=db)\n",
    "    cursor = db[collection].find(query)\n",
    "    \n",
    "    comments = [j['text'].lower() for i in list(cursor) for j in i['posts']]\n",
    "    return comments"
   ]
  },
  {
   "cell_type": "code",
   "execution_count": 3,
   "metadata": {},
   "outputs": [],
   "source": [
    "comments = read_mongo('CryptoDB', 'coments')"
   ]
  },
  {
   "cell_type": "code",
   "execution_count": 40,
   "metadata": {},
   "outputs": [],
   "source": [
    "def clean_comments(text):\n",
    "    letters_only = re.sub('[^a-z]', ' ', text)\n",
    "    words = letters_only.lower().split()\n",
    "    stopwords_eng = set(stopwords.words(\"english\"))\n",
    "    useful_words = [x for x in words if not x in stopwords_eng and len(x) <=20]\n",
    "    \n",
    "    useful_words_string = ' '.join(useful_words)\n",
    "    return(useful_words_string)\n",
    "\n",
    "text_list_clean = list(map(clean_comments, comments))"
   ]
  },
  {
   "cell_type": "code",
   "execution_count": 41,
   "metadata": {},
   "outputs": [],
   "source": [
    "stemmer = PorterStemmer()\n",
    "\n",
    "def stem_words(words_list, stemmer):\n",
    "    return [stemmer.stem(word) for word in words_list]\n",
    "\n",
    "def tokenize(text):\n",
    "    tokens = word_tokenize(text)\n",
    "    stems = stem_words(tokens, stemmer)\n",
    "    return stems\n",
    "\n",
    "tfidf = TfidfVectorizer(tokenizer=tokenize, stop_words='english')\n",
    "tfs = tfidf.fit_transform(text_list_clean)"
   ]
  },
  {
   "cell_type": "code",
   "execution_count": 42,
   "metadata": {},
   "outputs": [
    {
     "data": {
      "text/plain": [
       "(102, 1752)"
      ]
     },
     "execution_count": 42,
     "metadata": {},
     "output_type": "execute_result"
    }
   ],
   "source": [
    "tfs.shape"
   ]
  },
  {
   "cell_type": "code",
   "execution_count": 60,
   "metadata": {},
   "outputs": [
    {
     "data": {
      "text/plain": [
       "KMeans(algorithm='auto', copy_x=True, init='k-means++', max_iter=1000,\n",
       "    n_clusters=7, n_init=5, n_jobs=1, precompute_distances='auto',\n",
       "    random_state=None, tol=0.0001, verbose=0)"
      ]
     },
     "execution_count": 60,
     "metadata": {},
     "output_type": "execute_result"
    }
   ],
   "source": [
    "k = 7\n",
    "km = KMeans(n_clusters=k, init='k-means++', max_iter=1000, n_init=5)\n",
    "km.fit(tfs)"
   ]
  },
  {
   "cell_type": "code",
   "execution_count": 61,
   "metadata": {},
   "outputs": [
    {
     "data": {
      "image/png": "[encoded data removed]",
      "text/plain": [
       "<Figure size 432x288 with 1 Axes>"
      ]
     },
     "metadata": {},
     "output_type": "display_data"
    }
   ],
   "source": [
    "import matplotlib.pyplot as plt\n",
    "%matplotlib inline\n",
    "\n",
    "plt.hist(km.labels_, bins=k)\n",
    "plt.show()"
   ]
  },
  {
   "cell_type": "code",
   "execution_count": 62,
   "metadata": {},
   "outputs": [],
   "source": [
    "from sklearn.manifold import TSNE\n",
    "from sklearn.decomposition import TruncatedSVD"
   ]
  },
  {
   "cell_type": "code",
   "execution_count": 64,
   "metadata": {},
   "outputs": [],
   "source": [
    "k = 7\n",
    "tfs_reduced = TruncatedSVD(n_components=k, random_state=0).fit_transform(tfs)"
   ]
  },
  {
   "cell_type": "code",
   "execution_count": 65,
   "metadata": {},
   "outputs": [
    {
     "name": "stdout",
     "output_type": "stream",
     "text": [
      "[t-SNE] Computing 101 nearest neighbors...\n",
      "[t-SNE] Indexed 102 samples in 0.000s...\n",
      "[t-SNE] Computed neighbors for 102 samples in 0.002s...\n",
      "[t-SNE] Computed conditional probabilities for sample 102 / 102\n",
      "[t-SNE] Mean sigma: 0.215474\n",
      "[t-SNE] Computed conditional probabilities in 0.007s\n",
      "[t-SNE] Iteration 50: error = 50.8875618, gradient norm = 0.5986756 (50 iterations in 0.093s)\n",
      "[t-SNE] Iteration 100: error = 50.2801018, gradient norm = 0.5951191 (50 iterations in 0.070s)\n",
      "[t-SNE] Iteration 150: error = 51.5087852, gradient norm = 0.5788080 (50 iterations in 0.071s)\n",
      "[t-SNE] Iteration 200: error = 53.3617401, gradient norm = 0.5279607 (50 iterations in 0.074s)\n",
      "[t-SNE] Iteration 250: error = 51.8004189, gradient norm = 0.5427606 (50 iterations in 0.069s)\n",
      "[t-SNE] KL divergence after 250 iterations with early exaggeration: 51.800419\n",
      "[t-SNE] Iteration 300: error = 0.6526135, gradient norm = 0.0109175 (50 iterations in 0.071s)\n",
      "[t-SNE] Iteration 350: error = 0.2189324, gradient norm = 0.0052369 (50 iterations in 0.074s)\n",
      "[t-SNE] Iteration 400: error = 0.2156299, gradient norm = 0.0005179 (50 iterations in 0.072s)\n",
      "[t-SNE] Iteration 450: error = 0.2151734, gradient norm = 0.0003832 (50 iterations in 0.072s)\n",
      "[t-SNE] Iteration 500: error = 0.2150895, gradient norm = 0.0004360 (50 iterations in 0.076s)\n",
      "[t-SNE] Iteration 550: error = 0.2148817, gradient norm = 0.0005569 (50 iterations in 0.070s)\n",
      "[t-SNE] Iteration 600: error = 0.2149237, gradient norm = 0.0005185 (50 iterations in 0.068s)\n",
      "[t-SNE] Iteration 650: error = 0.2146074, gradient norm = 0.0006476 (50 iterations in 0.073s)\n",
      "[t-SNE] Iteration 700: error = 0.2149650, gradient norm = 0.0004769 (50 iterations in 0.069s)\n",
      "[t-SNE] Iteration 750: error = 0.2149335, gradient norm = 0.0004213 (50 iterations in 0.070s)\n",
      "[t-SNE] Iteration 800: error = 0.2148812, gradient norm = 0.0005215 (50 iterations in 0.067s)\n",
      "[t-SNE] Iteration 850: error = 0.2147923, gradient norm = 0.0005266 (50 iterations in 0.074s)\n",
      "[t-SNE] Iteration 900: error = 0.2149177, gradient norm = 0.0006195 (50 iterations in 0.068s)\n",
      "[t-SNE] Iteration 950: error = 0.2151527, gradient norm = 0.0004928 (50 iterations in 0.067s)\n",
      "[t-SNE] Iteration 1000: error = 0.2151014, gradient norm = 0.0004235 (50 iterations in 0.067s)\n",
      "[t-SNE] Iteration 1000: did not make any progress during the last 300 episodes. Finished.\n",
      "[t-SNE] Error after 1000 iterations: 0.215101\n"
     ]
    }
   ],
   "source": [
    "tfs_embedded = TSNE(n_components=2, perplexity=40, verbose=2).fit_transform(tfs_reduced)"
   ]
  },
  {
   "cell_type": "code",
   "execution_count": 66,
   "metadata": {},
   "outputs": [
    {
     "data": {
      "image/png": "[encoded data removed]",
      "text/plain": [
       "<Figure size 720x720 with 1 Axes>"
      ]
     },
     "metadata": {},
     "output_type": "display_data"
    }
   ],
   "source": [
    "fig = plt.figure(figsize = (10, 10))\n",
    "ax = plt.axes()\n",
    "plt.scatter(tfs_embedded[:, 0], tfs_embedded[:, 1], c = km.labels_)\n",
    "plt.show()"
   ]
  },
  {
   "cell_type": "code",
   "execution_count": 67,
   "metadata": {},
   "outputs": [
    {
     "name": "stdout",
     "output_type": "stream",
     "text": [
      "k: 1  cost: 97.8942907653297\n",
      "k: 2  cost: 95.19603335337636\n",
      "k: 3  cost: 93.40764546916033\n",
      "k: 4  cost: 91.88368737954477\n",
      "k: 5  cost: 90.41693036027863\n",
      "k: 6  cost: 88.31002228198342\n",
      "k: 7  cost: 86.60054453421013\n",
      "k: 8  cost: 84.51160517617653\n",
      "k: 9  cost: 82.74932279359672\n",
      "k: 10  cost: 81.55637939345944\n",
      "k: 11  cost: 80.10170169636247\n",
      "k: 12  cost: 78.77060629574973\n",
      "k: 13  cost: 77.22449879187913\n",
      "k: 14  cost: 75.48714077647337\n",
      "k: 15  cost: 74.34687351052335\n",
      "k: 16  cost: 72.82493350121833\n",
      "k: 17  cost: 71.28211936326015\n",
      "k: 18  cost: 70.67970138982119\n",
      "k: 19  cost: 68.15765602216689\n"
     ]
    }
   ],
   "source": [
    "for k in range (1, 20):\n",
    "    kmeans_model = KMeans(n_clusters=k).fit(tfs)\n",
    "    labels = kmeans_model.labels_\n",
    "    interia = kmeans_model.inertia_\n",
    "    print(\"k:\",k, \" cost:\", interia)"
   ]
  },
  {
   "cell_type": "code",
   "execution_count": null,
   "metadata": {},
   "outputs": [],
   "source": []
  },
  {
   "cell_type": "code",
   "execution_count": null,
   "metadata": {},
   "outputs": [],
   "source": []
  }
 ],
 "metadata": {
  "kernelspec": {
   "display_name": "Python 3",
   "language": "python",
   "name": "python3"
  },
  "language_info": {
   "codemirror_mode": {
    "name": "ipython",
    "version": 3
   },
   "file_extension": ".py",
   "mimetype": "text/x-python",
   "name": "python",
   "nbconvert_exporter": "python",
   "pygments_lexer": "ipython3",
   "version": "3.6.5"
  }
 },
 "nbformat": 4,
 "nbformat_minor": 2
}
